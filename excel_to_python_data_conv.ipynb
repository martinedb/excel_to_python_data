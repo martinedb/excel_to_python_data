# Improved version: Open a window where you can paste your copied Excel data!

import tkinter as tk
from tkinter import simpledialog

def convert_raw_excel_to_array(raw_text):
    """
    Converts copied raw Excel data into an array of numbers.
    
    Args:
    - raw_text (str): Raw text copied from Excel (tab- or newline-separated)
    
    Returns:
    - List of floats or ints.
    """
    lines = raw_text.strip().splitlines()
    array = []

    for line in lines:
        entries = line.split('\t')
        for entry in entries:
            entry = entry.strip()
            if entry:
                try:
                    num = float(entry)
                    if num.is_integer():
                        num = int(num)
                    array.append(num)
                except ValueError:
                    pass

    return array

# Create a simple input dialog
def main():
    root = tk.Tk()
    root.withdraw()  # Hide the main window

    # Show input dialog
    raw_data = simpledialog.askstring(title="Paste Excel Data", prompt="Paste your copied Excel data below:")

    if raw_data:
        numbers_array = convert_raw_excel_to_array(raw_data)
        print("\nConverted Array:")
        print(numbers_array)
    else:
        print("No data was pasted.")

if __name__ == "__main__":
    main()
